{
 "cells": [
  {
   "cell_type": "markdown",
   "id": "de16cb83-ca06-44f9-8b92-b3a8d5294e65",
   "metadata": {},
   "source": [
    "# Data Science Tools and Ecosystem"
   ]
  },
  {
   "cell_type": "markdown",
   "id": "f232c14f-4ace-45fb-b6e9-85dddba002a9",
   "metadata": {},
   "source": [
    "In this notebook, Data Science Tools and Ecosystem are summarized."
   ]
  },
  {
   "cell_type": "markdown",
   "id": "9a5f7758-6c80-410c-9159-979ca15a4b30",
   "metadata": {},
   "source": [
    "Some of the popular languages that Data Scientist use are:\n",
    "1) Python\n",
    "2) R\n",
    "3) SQL\n",
    "4) Scala\n",
    "5) Java\n",
    "6) C++\n",
    "8) Julia"
   ]
  },
  {
   "cell_type": "markdown",
   "id": "9fcc34d9-4de4-4972-bb75-2d5672b01115",
   "metadata": {},
   "source": [
    "Some of the comonly used libraries used by Data Scientists include:\n",
    "1) Pandas\n",
    "2) NumPy\n",
    "3) Matplotlib\n",
    "4) Seaborn"
   ]
  },
  {
   "cell_type": "markdown",
   "id": "fda17f98-b9f9-4dc9-8675-f4cf225a3fb4",
   "metadata": {},
   "source": [
    "| Data Science Tools |\n",
    "|:-----:|\n",
    "| Google Colab |\n",
    "| Jupyter Notebook |\n",
    "| Rstudio |"
   ]
  },
  {
   "cell_type": "markdown",
   "id": "9f4a5541-ce84-433a-9f9a-50858eeed8c3",
   "metadata": {},
   "source": [
    "### Below are a few examples of evaluating arithmetic expressions in Python"
   ]
  },
  {
   "cell_type": "code",
   "execution_count": 4,
   "id": "30cb4d88-0c81-4192-9763-5bb4c4cbc68b",
   "metadata": {},
   "outputs": [
    {
     "data": {
      "text/plain": [
       "17"
      ]
     },
     "execution_count": 4,
     "metadata": {},
     "output_type": "execute_result"
    }
   ],
   "source": [
    "## This is a simple arithmetic expression to multiply then add integers\n",
    "(3*4)+5"
   ]
  },
  {
   "cell_type": "code",
   "execution_count": 6,
   "id": "87955bfd-9eaf-4e69-9607-c46b8800e0e5",
   "metadata": {},
   "outputs": [
    {
     "name": "stdout",
     "output_type": "stream",
     "text": [
      "3.3333333333333335 hours\n"
     ]
    }
   ],
   "source": [
    "## This will convert 200 minutes into hours by dividing by 60\n",
    "time = 200/60\n",
    "print(str(time)+\" hours\")"
   ]
  },
  {
   "cell_type": "markdown",
   "id": "f872b4b0-846c-4158-9adb-12e16a56071a",
   "metadata": {},
   "source": [
    "**Objectives:**\n",
    "-  List examples of Open Source tools in various categories\n",
    "-  Identify the benefits of Python\n",
    "-  Describe data sets and sources of data\n",
    "-  Create a Jupyter Notebook with markdown and code cells"
   ]
  },
  {
   "cell_type": "markdown",
   "id": "a11a9c39-e3c2-4b24-98b1-9debbdf43728",
   "metadata": {},
   "source": [
    "## Author\n",
    "Philip Wortman"
   ]
  },
  {
   "cell_type": "code",
   "execution_count": null,
   "id": "b1f9b436-6733-448e-8d6b-cce9257b8680",
   "metadata": {},
   "outputs": [],
   "source": []
  }
 ],
 "metadata": {
  "kernelspec": {
   "display_name": "Python 3 (ipykernel)",
   "language": "python",
   "name": "python3"
  },
  "language_info": {
   "codemirror_mode": {
    "name": "ipython",
    "version": 3
   },
   "file_extension": ".py",
   "mimetype": "text/x-python",
   "name": "python",
   "nbconvert_exporter": "python",
   "pygments_lexer": "ipython3",
   "version": "3.12.7"
  }
 },
 "nbformat": 4,
 "nbformat_minor": 5
}
